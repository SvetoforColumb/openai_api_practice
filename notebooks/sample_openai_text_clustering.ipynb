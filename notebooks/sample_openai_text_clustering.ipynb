{
 "cells": [
  {
   "cell_type": "markdown",
   "metadata": {
    "id": "HKB25rBNaie4"
   },
   "source": [
    "# Кластеризация входящих обращений с помощью ChatGPT\n",
    "## notebook-инструкция"
   ]
  },
  {
   "cell_type": "code",
   "execution_count": 1,
   "metadata": {
    "executionInfo": {
     "elapsed": 329,
     "status": "ok",
     "timestamp": 1678609130846,
     "user": {
      "displayName": "Sasha Grigoryeff",
      "userId": "05075438640192291536"
     },
     "user_tz": -300
    },
    "id": "L-TChTUzaie6",
    "tags": []
   },
   "outputs": [],
   "source": [
    "# imports\n",
    "import numpy as np\n",
    "import pandas as pd\n",
    "import tiktoken\n",
    "import openai\n",
    "from openai.embeddings_utils import get_embedding\n",
    "from tqdm import tqdm"
   ]
  },
  {
   "cell_type": "code",
   "execution_count": 2,
   "metadata": {},
   "outputs": [],
   "source": [
    "tqdm.pandas()"
   ]
  },
  {
   "cell_type": "code",
   "execution_count": 3,
   "metadata": {
    "executionInfo": {
     "elapsed": 5,
     "status": "ok",
     "timestamp": 1678609132632,
     "user": {
      "displayName": "Sasha Grigoryeff",
      "userId": "05075438640192291536"
     },
     "user_tz": -300
    },
    "id": "KojPGXUky6GA"
   },
   "outputs": [],
   "source": [
    "from dotenv import load_dotenv\n",
    "from os import environ\n",
    "from pathlib import Path  # python3 only\n",
    "\n",
    "env_path = Path('.') / '.env'\n",
    "load_dotenv(dotenv_path=env_path)\n",
    "\n",
    "openai.api_key = environ.get('OPENAI_TOKEN')"
   ]
  },
  {
   "cell_type": "markdown",
   "metadata": {},
   "source": [
    "# Подготовка данных"
   ]
  },
  {
   "cell_type": "markdown",
   "metadata": {},
   "source": [
    "Загрузим датасет с заранее предразмеченным классом (поле `class`), как мы бы этот класс разметили. Это нужно, чтобы сравнить качество разметки.\n",
    "\n",
    "Ваш датасет спокойно может не содержать поля `class`\n",
    "\n",
    "Датасет содержит 118 обращений в чат медицинской организации"
   ]
  },
  {
   "cell_type": "code",
   "execution_count": 4,
   "metadata": {
    "collapsed": false,
    "jupyter": {
     "outputs_hidden": false
    }
   },
   "outputs": [
    {
     "data": {
      "text/html": [
       "<div>\n",
       "<style scoped>\n",
       "    .dataframe tbody tr th:only-of-type {\n",
       "        vertical-align: middle;\n",
       "    }\n",
       "\n",
       "    .dataframe tbody tr th {\n",
       "        vertical-align: top;\n",
       "    }\n",
       "\n",
       "    .dataframe thead th {\n",
       "        text-align: right;\n",
       "    }\n",
       "</style>\n",
       "<table border=\"1\" class=\"dataframe\">\n",
       "  <thead>\n",
       "    <tr style=\"text-align: right;\">\n",
       "      <th></th>\n",
       "      <th>message</th>\n",
       "      <th>class</th>\n",
       "    </tr>\n",
       "  </thead>\n",
       "  <tbody>\n",
       "    <tr>\n",
       "      <th>0</th>\n",
       "      <td>Как мне записаться на прием к врачу?</td>\n",
       "      <td>Запись на прием</td>\n",
       "    </tr>\n",
       "    <tr>\n",
       "      <th>1</th>\n",
       "      <td>Какие документы нужны для записи на прием?</td>\n",
       "      <td>Запись на прием</td>\n",
       "    </tr>\n",
       "    <tr>\n",
       "      <th>2</th>\n",
       "      <td>Какие дни и часы работы приемной?</td>\n",
       "      <td>Запись на прием</td>\n",
       "    </tr>\n",
       "    <tr>\n",
       "      <th>3</th>\n",
       "      <td>Как быстро можно записаться на прием?</td>\n",
       "      <td>Запись на прием</td>\n",
       "    </tr>\n",
       "    <tr>\n",
       "      <th>4</th>\n",
       "      <td>Могу ли я выбрать время приема врача?</td>\n",
       "      <td>Запись на прием</td>\n",
       "    </tr>\n",
       "    <tr>\n",
       "      <th>...</th>\n",
       "      <td>...</td>\n",
       "      <td>...</td>\n",
       "    </tr>\n",
       "    <tr>\n",
       "      <th>113</th>\n",
       "      <td>Здравствуйте, я хотел бы узнать о возможных ва...</td>\n",
       "      <td>Пластическая хирургия</td>\n",
       "    </tr>\n",
       "    <tr>\n",
       "      <th>114</th>\n",
       "      <td>Добрый день, я интересуюсь пластической операц...</td>\n",
       "      <td>Пластическая хирургия</td>\n",
       "    </tr>\n",
       "    <tr>\n",
       "      <th>115</th>\n",
       "      <td>Здравствуйте, я хотел бы узнать о возможностях...</td>\n",
       "      <td>Пластическая хирургия</td>\n",
       "    </tr>\n",
       "    <tr>\n",
       "      <th>116</th>\n",
       "      <td>Добрый день, мне не нравится форма моей живота...</td>\n",
       "      <td>Пластическая хирургия</td>\n",
       "    </tr>\n",
       "    <tr>\n",
       "      <th>117</th>\n",
       "      <td>Здравствуйте, я хотел бы узнать, какие есть во...</td>\n",
       "      <td>Пластическая хирургия</td>\n",
       "    </tr>\n",
       "  </tbody>\n",
       "</table>\n",
       "<p>118 rows × 2 columns</p>\n",
       "</div>"
      ],
      "text/plain": [
       "                                               message                  class\n",
       "0                 Как мне записаться на прием к врачу?        Запись на прием\n",
       "1           Какие документы нужны для записи на прием?        Запись на прием\n",
       "2                    Какие дни и часы работы приемной?        Запись на прием\n",
       "3                Как быстро можно записаться на прием?        Запись на прием\n",
       "4                Могу ли я выбрать время приема врача?        Запись на прием\n",
       "..                                                 ...                    ...\n",
       "113  Здравствуйте, я хотел бы узнать о возможных ва...  Пластическая хирургия\n",
       "114  Добрый день, я интересуюсь пластической операц...  Пластическая хирургия\n",
       "115  Здравствуйте, я хотел бы узнать о возможностях...  Пластическая хирургия\n",
       "116  Добрый день, мне не нравится форма моей живота...  Пластическая хирургия\n",
       "117  Здравствуйте, я хотел бы узнать, какие есть во...  Пластическая хирургия\n",
       "\n",
       "[118 rows x 2 columns]"
      ]
     },
     "execution_count": 4,
     "metadata": {},
     "output_type": "execute_result"
    }
   ],
   "source": [
    "chat_df = pd.read_csv('../data/appeals.csv')\n",
    "chat_df"
   ]
  },
  {
   "cell_type": "markdown",
   "metadata": {},
   "source": [
    "Заодно глянем на баланс предразмеченных классов"
   ]
  },
  {
   "cell_type": "code",
   "execution_count": 5,
   "metadata": {},
   "outputs": [
    {
     "data": {
      "text/plain": [
       "Результаты анализов         36\n",
       "Изменение времени приема    25\n",
       "Пластическая хирургия       25\n",
       "Запись на прием             18\n",
       "Справки                     14\n",
       "Name: class, dtype: int64"
      ]
     },
     "execution_count": 5,
     "metadata": {},
     "output_type": "execute_result"
    }
   ],
   "source": [
    "chat_df['class'].value_counts()"
   ]
  },
  {
   "cell_type": "code",
   "execution_count": 6,
   "metadata": {
    "executionInfo": {
     "elapsed": 6,
     "status": "ok",
     "timestamp": 1678609131182,
     "user": {
      "displayName": "Sasha Grigoryeff",
      "userId": "05075438640192291536"
     },
     "user_tz": -300
    },
    "id": "2t4rFWcYfpIg"
   },
   "outputs": [],
   "source": [
    "df = chat_df.copy()"
   ]
  },
  {
   "cell_type": "markdown",
   "metadata": {},
   "source": [
    "Выбираем какая модель нам нужна для получения эмбеддингов и зададим как будут они будут кодированы"
   ]
  },
  {
   "cell_type": "code",
   "execution_count": 7,
   "metadata": {
    "executionInfo": {
     "elapsed": 7,
     "status": "ok",
     "timestamp": 1678609131181,
     "user": {
      "displayName": "Sasha Grigoryeff",
      "userId": "05075438640192291536"
     },
     "user_tz": -300
    },
    "id": "NOwQ-bROf-GJ"
   },
   "outputs": [],
   "source": [
    "embedding_model = \"text-embedding-ada-002\"\n",
    "embedding_encoding = \"cl100k_base\"  \n"
   ]
  },
  {
   "cell_type": "markdown",
   "metadata": {},
   "source": [
    "Далее мы почистим наш датасет, убрав слишком длинные сообщения.\n",
    "\n",
    "Этот пункт можно спокойно пропускать, если вам не жалко вашего баланса openai."
   ]
  },
  {
   "cell_type": "code",
   "execution_count": 8,
   "metadata": {
    "colab": {
     "base_uri": "https://localhost:8080/"
    },
    "executionInfo": {
     "elapsed": 1453,
     "status": "ok",
     "timestamp": 1678609132630,
     "user": {
      "displayName": "Sasha Grigoryeff",
      "userId": "05075438640192291536"
     },
     "user_tz": -300
    },
    "id": "RDXn3ZWVlHD7",
    "outputId": "170dcc80-507f-44f3-8a73-9cdb76f8465d"
   },
   "outputs": [],
   "source": [
    "max_tokens = 100  # Задаём максимальную длину токенов\n",
    "\n",
    "encoding = tiktoken.get_encoding(embedding_encoding)\n",
    "\n",
    "# Высчитываем длину обращений в токенах\n",
    "df[\"n_tokens\"] = df['message'].apply(lambda x: len(encoding.encode(x)))"
   ]
  },
  {
   "cell_type": "code",
   "execution_count": 9,
   "metadata": {},
   "outputs": [
    {
     "name": "stdout",
     "output_type": "stream",
     "text": [
      "Потратим: $0.0011896\n"
     ]
    }
   ],
   "source": [
    "print(f\"Потратим: ${df['n_tokens'].sum() * 0.0004 / 1000}\")"
   ]
  },
  {
   "cell_type": "code",
   "execution_count": 10,
   "metadata": {},
   "outputs": [
    {
     "data": {
      "text/html": [
       "<div>\n",
       "<style scoped>\n",
       "    .dataframe tbody tr th:only-of-type {\n",
       "        vertical-align: middle;\n",
       "    }\n",
       "\n",
       "    .dataframe tbody tr th {\n",
       "        vertical-align: top;\n",
       "    }\n",
       "\n",
       "    .dataframe thead th {\n",
       "        text-align: right;\n",
       "    }\n",
       "</style>\n",
       "<table border=\"1\" class=\"dataframe\">\n",
       "  <thead>\n",
       "    <tr style=\"text-align: right;\">\n",
       "      <th></th>\n",
       "      <th>message</th>\n",
       "      <th>class</th>\n",
       "      <th>n_tokens</th>\n",
       "    </tr>\n",
       "  </thead>\n",
       "  <tbody>\n",
       "    <tr>\n",
       "      <th>0</th>\n",
       "      <td>Как мне записаться на прием к врачу?</td>\n",
       "      <td>Запись на прием</td>\n",
       "      <td>15</td>\n",
       "    </tr>\n",
       "    <tr>\n",
       "      <th>1</th>\n",
       "      <td>Какие документы нужны для записи на прием?</td>\n",
       "      <td>Запись на прием</td>\n",
       "      <td>15</td>\n",
       "    </tr>\n",
       "    <tr>\n",
       "      <th>2</th>\n",
       "      <td>Какие дни и часы работы приемной?</td>\n",
       "      <td>Запись на прием</td>\n",
       "      <td>14</td>\n",
       "    </tr>\n",
       "    <tr>\n",
       "      <th>3</th>\n",
       "      <td>Как быстро можно записаться на прием?</td>\n",
       "      <td>Запись на прием</td>\n",
       "      <td>12</td>\n",
       "    </tr>\n",
       "    <tr>\n",
       "      <th>4</th>\n",
       "      <td>Могу ли я выбрать время приема врача?</td>\n",
       "      <td>Запись на прием</td>\n",
       "      <td>17</td>\n",
       "    </tr>\n",
       "    <tr>\n",
       "      <th>...</th>\n",
       "      <td>...</td>\n",
       "      <td>...</td>\n",
       "      <td>...</td>\n",
       "    </tr>\n",
       "    <tr>\n",
       "      <th>113</th>\n",
       "      <td>Здравствуйте, я хотел бы узнать о возможных ва...</td>\n",
       "      <td>Пластическая хирургия</td>\n",
       "      <td>46</td>\n",
       "    </tr>\n",
       "    <tr>\n",
       "      <th>114</th>\n",
       "      <td>Добрый день, я интересуюсь пластической операц...</td>\n",
       "      <td>Пластическая хирургия</td>\n",
       "      <td>42</td>\n",
       "    </tr>\n",
       "    <tr>\n",
       "      <th>115</th>\n",
       "      <td>Здравствуйте, я хотел бы узнать о возможностях...</td>\n",
       "      <td>Пластическая хирургия</td>\n",
       "      <td>35</td>\n",
       "    </tr>\n",
       "    <tr>\n",
       "      <th>116</th>\n",
       "      <td>Добрый день, мне не нравится форма моей живота...</td>\n",
       "      <td>Пластическая хирургия</td>\n",
       "      <td>43</td>\n",
       "    </tr>\n",
       "    <tr>\n",
       "      <th>117</th>\n",
       "      <td>Здравствуйте, я хотел бы узнать, какие есть во...</td>\n",
       "      <td>Пластическая хирургия</td>\n",
       "      <td>31</td>\n",
       "    </tr>\n",
       "  </tbody>\n",
       "</table>\n",
       "<p>118 rows × 3 columns</p>\n",
       "</div>"
      ],
      "text/plain": [
       "                                               message                  class  \\\n",
       "0                 Как мне записаться на прием к врачу?        Запись на прием   \n",
       "1           Какие документы нужны для записи на прием?        Запись на прием   \n",
       "2                    Какие дни и часы работы приемной?        Запись на прием   \n",
       "3                Как быстро можно записаться на прием?        Запись на прием   \n",
       "4                Могу ли я выбрать время приема врача?        Запись на прием   \n",
       "..                                                 ...                    ...   \n",
       "113  Здравствуйте, я хотел бы узнать о возможных ва...  Пластическая хирургия   \n",
       "114  Добрый день, я интересуюсь пластической операц...  Пластическая хирургия   \n",
       "115  Здравствуйте, я хотел бы узнать о возможностях...  Пластическая хирургия   \n",
       "116  Добрый день, мне не нравится форма моей живота...  Пластическая хирургия   \n",
       "117  Здравствуйте, я хотел бы узнать, какие есть во...  Пластическая хирургия   \n",
       "\n",
       "     n_tokens  \n",
       "0          15  \n",
       "1          15  \n",
       "2          14  \n",
       "3          12  \n",
       "4          17  \n",
       "..        ...  \n",
       "113        46  \n",
       "114        42  \n",
       "115        35  \n",
       "116        43  \n",
       "117        31  \n",
       "\n",
       "[118 rows x 3 columns]"
      ]
     },
     "execution_count": 10,
     "metadata": {},
     "output_type": "execute_result"
    }
   ],
   "source": [
    "# Убираем слишком длинные, чтоы не потратить слишком много токенов\n",
    "df = df[df[\"n_tokens\"] <= max_tokens]\n",
    "df"
   ]
  },
  {
   "cell_type": "markdown",
   "metadata": {},
   "source": [
    "# Получаем эмбединги!\n",
    "\n",
    "Обычно занимает около минуты на сотню сообщений.\n",
    "\n",
    "Эмбединги - математическое представление текстов\n",
    "\n",
    "Советую использовать `progress_apply` из tqdm, чтобы понять сколько осталось времени."
   ]
  },
  {
   "cell_type": "code",
   "execution_count": 11,
   "metadata": {
    "executionInfo": {
     "elapsed": 14190,
     "status": "ok",
     "timestamp": 1678609146817,
     "user": {
      "displayName": "Sasha Grigoryeff",
      "userId": "05075438640192291536"
     },
     "user_tz": -300
    },
    "id": "JAVjwVKbytST"
   },
   "outputs": [
    {
     "name": "stderr",
     "output_type": "stream",
     "text": [
      "100%|██████████| 118/118 [01:04<00:00,  1.82it/s]\n"
     ]
    }
   ],
   "source": [
    "df[\"embedding\"] = df['message'].progress_apply(lambda x: get_embedding(x, engine=embedding_model))\n"
   ]
  },
  {
   "cell_type": "code",
   "execution_count": 12,
   "metadata": {
    "colab": {
     "base_uri": "https://localhost:8080/"
    },
    "executionInfo": {
     "elapsed": 18,
     "status": "ok",
     "timestamp": 1678609146818,
     "user": {
      "displayName": "Sasha Grigoryeff",
      "userId": "05075438640192291536"
     },
     "user_tz": -300
    },
    "id": "sup6OIX3c9aZ",
    "outputId": "8fa6777b-ae90-452b-b3b2-6aac954bd943"
   },
   "outputs": [
    {
     "data": {
      "text/plain": [
       "(118, 1536)"
      ]
     },
     "execution_count": 12,
     "metadata": {},
     "output_type": "execute_result"
    }
   ],
   "source": [
    "matrix = np.vstack(df['embedding'].values)\n",
    "matrix.shape"
   ]
  },
  {
   "cell_type": "markdown",
   "metadata": {
    "id": "TVFdMceqaie8"
   },
   "source": [
    "### Поиск кластеров, используя K-means"
   ]
  },
  {
   "cell_type": "code",
   "execution_count": 13,
   "metadata": {
    "colab": {
     "base_uri": "https://localhost:8080/"
    },
    "executionInfo": {
     "elapsed": 598,
     "status": "ok",
     "timestamp": 1678609147400,
     "user": {
      "displayName": "Sasha Grigoryeff",
      "userId": "05075438640192291536"
     },
     "user_tz": -300
    },
    "id": "mb2VlwYbaie9",
    "outputId": "ad851f41-1dea-4e55-fb80-2bf7a82b0fbf"
   },
   "outputs": [],
   "source": [
    "from sklearn.cluster import KMeans\n",
    "\n",
    "n_clusters = 5 # Кол-во кластеров можно менять по усмотрению\n",
    "\n",
    "kmeans = KMeans(n_clusters=n_clusters, init=\"k-means++\", random_state=42)\n",
    "kmeans.fit(matrix)\n",
    "labels = kmeans.labels_\n",
    "df[\"сluster\"] = labels"
   ]
  },
  {
   "cell_type": "markdown",
   "metadata": {},
   "source": [
    "На данном этапе количество кластеров можно подобрать визуально, зная примерно количество \"тем\", которое можно встретить в вашем датасете. \n",
    "\n",
    "Подбор оптимального количества кластеров это тема, которую можно рассмотреть отдельно."
   ]
  },
  {
   "cell_type": "code",
   "execution_count": 14,
   "metadata": {
    "colab": {
     "base_uri": "https://localhost:8080/",
     "height": 299
    },
    "executionInfo": {
     "elapsed": 2394,
     "status": "ok",
     "timestamp": 1678609149790,
     "user": {
      "displayName": "Sasha Grigoryeff",
      "userId": "05075438640192291536"
     },
     "user_tz": -300
    },
    "id": "aODo5myfaie9",
    "outputId": "4f8bbcaa-6bcf-4528-d380-48490059ba37"
   },
   "outputs": [
    {
     "data": {
      "text/plain": [
       "Text(0.5, 1.0, 'Отображение кластеров в 2d используя t-SNE')"
      ]
     },
     "execution_count": 14,
     "metadata": {},
     "output_type": "execute_result"
    },
    {
     "data": {
      "image/png": "[encoded data removed]",
      "text/plain": [
       "<Figure size 640x480 with 1 Axes>"
      ]
     },
     "metadata": {},
     "output_type": "display_data"
    }
   ],
   "source": [
    "from sklearn.manifold import TSNE\n",
    "import matplotlib\n",
    "import matplotlib.pyplot as plt\n",
    "\n",
    "tsne = TSNE(n_components=2, perplexity=15, random_state=42, init=\"random\", learning_rate=200)\n",
    "vis_dims2 = tsne.fit_transform(matrix)\n",
    "\n",
    "x = [x for x, y in vis_dims2]\n",
    "y = [y for x, y in vis_dims2]\n",
    "\n",
    "for category, color in enumerate([\"purple\", \"green\", \"red\", \"blue\", \"yellow\"]):\n",
    "    xs = np.array(x)[df.сluster == category]\n",
    "    ys = np.array(y)[df.сluster == category]\n",
    "    plt.scatter(xs, ys, color=color, alpha=0.3)\n",
    "\n",
    "    avg_x = xs.mean()\n",
    "    avg_y = ys.mean()\n",
    "\n",
    "    plt.scatter(avg_x, avg_y, marker=\"x\", color=color, s=100)\n",
    "plt.title(\"Отображение кластеров в 2d используя t-SNE\")\n"
   ]
  },
  {
   "cell_type": "markdown",
   "metadata": {
    "id": "oLikZWniaie-"
   },
   "source": [
    "Как мы видим четыре из пяти кластеров расположились относительно \"рядом\". Это говорит о том, что они приблизительно схожи по тематике.\n",
    "\n",
    "В то же время как кластер снизу слева наоборот находится далеко от других."
   ]
  },
  {
   "cell_type": "markdown",
   "metadata": {
    "id": "_1Ze-Xdmaie-"
   },
   "source": [
    "# Составляем названия для кластеров\n",
    "\n",
    "Для того чтобы выделить названия для кластеров, мы возьмём по пять случайных сообщений в каждем кластере и попросим модель `gpt-3.5-turbo` из ChatGPT описать что у них есть общего ~~ради хайпового заголовка~~, потому что сейчас это одна из самых качественных моделей для суммаризации от OpenAI. В то же время модель `text-davinci-003` так же отлично подойдёт, но будет стоить в 10 раз дороже.\n",
    "\n",
    "Стоит обратить внимание на то, что стоимость генерации выйдет дороже получения эмбеддингов. Стоимость можно ограничивать, контролируя размез `promt`. Или же размер выдачи, изменяя параметр `max_tokens`"
   ]
  },
  {
   "cell_type": "code",
   "execution_count": 16,
   "metadata": {
    "colab": {
     "base_uri": "https://localhost:8080/"
    },
    "executionInfo": {
     "elapsed": 5038,
     "status": "ok",
     "timestamp": 1678609154822,
     "user": {
      "displayName": "Sasha Grigoryeff",
      "userId": "05075438640192291536"
     },
     "user_tz": -300
    },
    "id": "LnhOrlIqaie-",
    "outputId": "4176c6c3-e564-400e-fc7a-499bcf9a784e"
   },
   "outputs": [
    {
     "name": "stdout",
     "output_type": "stream",
     "text": [
      "Тема кластера №0:  Изменение времени приема у врача. \n",
      "\n",
      "Как отменить изменение времени приема?\n",
      "Есть ли ограничения по количеству раз, когда можно изменить время приема?\n",
      "Могу ли я изменить время приема через интернет?\n",
      "Какие данные нужно предоставить для изменения времени приема?\n",
      "Могу ли я выбрать время приема врача?\n",
      "\n",
      "\n",
      "\n",
      "Тема кластера №1:  медицинские справки и их получение. \n",
      "\n",
      "Какие медицинские справки нужны для трудоустройства?\n",
      "Какие медицинские справки нужны для получения водительского удостоверения?\n",
      "Как получить медицинскую справку?\n",
      "Какие медицинские справки нужны для выезда за границу?\n",
      "Могу ли я получить медицинскую справку по почте или электронной почте?\n",
      "\n",
      "\n",
      "\n",
      "Тема кластера №2:  пластическая хирургия. \n",
      "\n",
      "Добрый день, я хочу сделать операцию по подтяжке лица. Как долго будет идти восстановление после операции?\n",
      "Добрый день, я хотел бы узнать о возможностях пластической операции по удалению рубцов.\n",
      "Здравствуйте, я хотел бы узнать, какую процедуру можно сделать для коррекции формы бровей?\n",
      "Добрый день, мне не нравится форма моей живота. Какие есть варианты пластической коррекции?\n",
      "Здравствуйте, я хочу сделать операцию по изменению формы ушей. Какие ограничения будут после операции?\n",
      "\n",
      "\n",
      "\n",
      "Тема кластера №3:  результаты анализов. \n",
      "\n",
      "Какие услуги могут быть оказаны на основе результатов анализов?\n",
      "Как мне получить результаты анализов?\n",
      "Какие данные нужно предоставить для получения результатов анализов?\n",
      "Как понять, что означают результаты анализов?\n",
      "Могу ли я получить результаты анализов у лечащего врача?\n",
      "\n",
      "\n",
      "\n",
      "Тема кластера №4:  Запись на прием к врачу. \n",
      "\n",
      "Как мне записаться на прием к врачу?\n",
      "Какие документы нужны для записи на прием?\n",
      "Как отменить запись на прием?\n",
      "Какие данные нужно указать при онлайн-записи?\n",
      "Могу ли я записаться на прием через интернет?\n",
      "\n",
      "\n",
      "\n"
     ]
    }
   ],
   "source": [
    "rev_per_cluster = 5\n",
    "\n",
    "for i in range(n_clusters):\n",
    "    joined_messages = \"\\n\".join(\n",
    "        df[df['сluster'] == i]\n",
    "        .message\n",
    "        .sample(rev_per_cluster, random_state=42)\n",
    "        .values\n",
    "    )\n",
    "    response = openai.ChatCompletion.create(\n",
    "        model=\"gpt-3.5-turbo\",\n",
    "        messages=[\n",
    "            {\n",
    "                \"role\": \"user\", \n",
    "                \"content\": f'Что общего у этих обращений?\\n\\nОбращения:\\n\"\"\"\\n{joined_messages}\\n\"\"\"\\n\\nТема:'\n",
    "            }\n",
    "        ],\n",
    "        temperature=0, \n",
    "        max_tokens=128, # Этот параметр можно изменять для более подробного или короткого описания\n",
    "        top_p=1,\n",
    "        frequency_penalty=0,\n",
    "        presence_penalty=0,\n",
    "    )\n",
    "    print(f\"Тема кластера №{i}: \", response['choices'][0]['message']['content'].replace(\"\\n\", \"\"), '\\n')\n",
    "    print(joined_messages)\n",
    "    print('\\n\\n')\n"
   ]
  },
  {
   "cell_type": "markdown",
   "metadata": {},
   "source": [
    "# Проверочная работа"
   ]
  },
  {
   "cell_type": "markdown",
   "metadata": {},
   "source": [
    "У нас теперь есть описание кластеров от `gpt-3.5-turbo`. Эти названия можно сопоставить с тем как мы разметили сообщения в начале."
   ]
  },
  {
   "cell_type": "code",
   "execution_count": 17,
   "metadata": {},
   "outputs": [],
   "source": [
    "df['cluster_name'] = df['сluster'].replace(\n",
    "    {\n",
    "        0: 'Изменение времени приема',\n",
    "        1: 'Справки',\n",
    "        2: 'Пластическая хирургия',\n",
    "        3: 'Результаты анализов',\n",
    "        4: 'Запись на прием'\n",
    "    }\n",
    ")\n"
   ]
  },
  {
   "cell_type": "markdown",
   "metadata": {},
   "source": [
    "Выведем ошибки"
   ]
  },
  {
   "cell_type": "code",
   "execution_count": 18,
   "metadata": {},
   "outputs": [
    {
     "data": {
      "text/html": [
       "<div>\n",
       "<style scoped>\n",
       "    .dataframe tbody tr th:only-of-type {\n",
       "        vertical-align: middle;\n",
       "    }\n",
       "\n",
       "    .dataframe tbody tr th {\n",
       "        vertical-align: top;\n",
       "    }\n",
       "\n",
       "    .dataframe thead th {\n",
       "        text-align: right;\n",
       "    }\n",
       "</style>\n",
       "<table border=\"1\" class=\"dataframe\">\n",
       "  <thead>\n",
       "    <tr style=\"text-align: right;\">\n",
       "      <th></th>\n",
       "      <th>message</th>\n",
       "      <th>class</th>\n",
       "      <th>n_tokens</th>\n",
       "      <th>embedding</th>\n",
       "      <th>сluster</th>\n",
       "      <th>cluster_name</th>\n",
       "    </tr>\n",
       "  </thead>\n",
       "  <tbody>\n",
       "    <tr>\n",
       "      <th>4</th>\n",
       "      <td>Могу ли я выбрать время приема врача?</td>\n",
       "      <td>Запись на прием</td>\n",
       "      <td>17</td>\n",
       "      <td>[-0.0005684721982106566, -0.007330173626542091...</td>\n",
       "      <td>0</td>\n",
       "      <td>Изменение времени приема</td>\n",
       "    </tr>\n",
       "    <tr>\n",
       "      <th>7</th>\n",
       "      <td>Как изменить время записи на прием?</td>\n",
       "      <td>Запись на прием</td>\n",
       "      <td>11</td>\n",
       "      <td>[-0.0019539822824299335, -0.0093830656260252, ...</td>\n",
       "      <td>0</td>\n",
       "      <td>Изменение времени приема</td>\n",
       "    </tr>\n",
       "    <tr>\n",
       "      <th>14</th>\n",
       "      <td>Как изменить время приема?</td>\n",
       "      <td>Запись на прием</td>\n",
       "      <td>9</td>\n",
       "      <td>[0.003285796847194433, -0.008702383376657963, ...</td>\n",
       "      <td>0</td>\n",
       "      <td>Изменение времени приема</td>\n",
       "    </tr>\n",
       "    <tr>\n",
       "      <th>34</th>\n",
       "      <td>Как отменить прием?</td>\n",
       "      <td>Изменение времени приема</td>\n",
       "      <td>8</td>\n",
       "      <td>[-0.00467408262193203, -0.008316137827932835, ...</td>\n",
       "      <td>4</td>\n",
       "      <td>Запись на прием</td>\n",
       "    </tr>\n",
       "  </tbody>\n",
       "</table>\n",
       "</div>"
      ],
      "text/plain": [
       "                                  message                     class  n_tokens  \\\n",
       "4   Могу ли я выбрать время приема врача?           Запись на прием        17   \n",
       "7     Как изменить время записи на прием?           Запись на прием        11   \n",
       "14             Как изменить время приема?           Запись на прием         9   \n",
       "34                    Как отменить прием?  Изменение времени приема         8   \n",
       "\n",
       "                                            embedding  сluster  \\\n",
       "4   [-0.0005684721982106566, -0.007330173626542091...        0   \n",
       "7   [-0.0019539822824299335, -0.0093830656260252, ...        0   \n",
       "14  [0.003285796847194433, -0.008702383376657963, ...        0   \n",
       "34  [-0.00467408262193203, -0.008316137827932835, ...        4   \n",
       "\n",
       "                cluster_name  \n",
       "4   Изменение времени приема  \n",
       "7   Изменение времени приема  \n",
       "14  Изменение времени приема  \n",
       "34           Запись на прием  "
      ]
     },
     "execution_count": 18,
     "metadata": {},
     "output_type": "execute_result"
    }
   ],
   "source": [
    "df[df['class'] != df['cluster_name']]"
   ]
  },
  {
   "cell_type": "markdown",
   "metadata": {},
   "source": [
    "Их всего 4 на 118 сообщений. И то это сложно назвать ошибками, т.к. эти сообщения действительно можно отнести к двум кластерам сразу."
   ]
  },
  {
   "cell_type": "markdown",
   "metadata": {},
   "source": [
    "В итоге за $0.04 (за эмбеддинги и кластеризацию) мы разметили больше сотни сообщений быстрее чем за пять минут!\n",
    "\n",
    "Даже если учесть, что в части сообщений мы точно ошибёмся, то количество ошибок будет вряд-ли больше чем при человеческой разметке.\n",
    "\n",
    "Однако стоит учитывать, что никакая модель без дообучения не будет знать нюансов и бизнес процессов компании и это стоит использовать как поверхностную аналитику, нежели руководство к действию."
   ]
  }
 ],
 "metadata": {
  "colab": {
   "provenance": [
    {
     "file_id": "https://github.com/openai/openai-cookbook/blob/main/examples/Clustering.ipynb",
     "timestamp": 1678608995580
    }
   ]
  },
  "kernelspec": {
   "display_name": "Python 3 (ipykernel)",
   "language": "python",
   "name": "python3"
  },
  "language_info": {
   "codemirror_mode": {
    "name": "ipython",
    "version": 3
   },
   "file_extension": ".py",
   "mimetype": "text/x-python",
   "name": "python",
   "nbconvert_exporter": "python",
   "pygments_lexer": "ipython3",
   "version": "3.10.6"
  },
  "vscode": {
   "interpreter": {
    "hash": "365536dcbde60510dc9073d6b991cd35db2d9bac356a11f5b64279a5e6708b97"
   }
  }
 },
 "nbformat": 4,
 "nbformat_minor": 4
}
